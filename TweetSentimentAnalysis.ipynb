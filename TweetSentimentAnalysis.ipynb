{
 "cells": [
  {
   "cell_type": "code",
   "execution_count": null,
   "metadata": {
    "application/vnd.databricks.v1+cell": {
     "inputWidgets": {},
     "nuid": "2f16cf31-a9ff-403a-b162-03e754dcc750",
     "showTitle": false,
     "title": ""
    }
   },
   "outputs": [],
   "source": [
    "from pyspark.sql.functions import *\n",
    "from pyspark.ml.feature import * \n",
    "from pyspark.ml import Pipeline\n",
    "from pyspark.ml.evaluation import MulticlassClassificationEvaluator\n",
    "from pyspark.ml.tuning import ParamGridBuilder, CrossValidator\n",
    "from pyspark.ml.classification import LogisticRegression"
   ]
  },
  {
   "cell_type": "code",
   "execution_count": null,
   "metadata": {
    "application/vnd.databricks.v1+cell": {
     "inputWidgets": {},
     "nuid": "436cf68e-507a-40fc-bd23-0de80b1e5d2d",
     "showTitle": false,
     "title": ""
    }
   },
   "outputs": [
    {
     "data": {
      "text/plain": [
       "+------------------+-----------------+----------------------------+--------------+-------------------------+--------------+----------------------+---------------+-------------------+-------------+--------------------+-----------+--------------------+--------------------+--------------------+\n",
       "|          tweet_id|airline_sentiment|airline_sentiment_confidence|negativereason|negativereason_confidence|       airline|airline_sentiment_gold|           name|negativereason_gold|retweet_count|                text|tweet_coord|       tweet_created|      tweet_location|       user_timezone|\n",
       "+------------------+-----------------+----------------------------+--------------+-------------------------+--------------+----------------------+---------------+-------------------+-------------+--------------------+-----------+--------------------+--------------------+--------------------+\n",
       "|570306133677760513|          neutral|                         1.0|          null|                     null|Virgin America|                  null|        cairdin|               null|            0|@VirginAmerica Wh...|       null|2015-02-24 11:35:...|                null|Eastern Time (US ...|\n",
       "|570301130888122368|         positive|                      0.3486|          null|                      0.0|Virgin America|                  null|       jnardino|               null|            0|@VirginAmerica pl...|       null|2015-02-24 11:15:...|                null|Pacific Time (US ...|\n",
       "|570301083672813571|          neutral|                      0.6837|          null|                     null|Virgin America|                  null|     yvonnalynn|               null|            0|@VirginAmerica I ...|       null|2015-02-24 11:15:...|           Lets Play|Central Time (US ...|\n",
       "|570301031407624196|         negative|                         1.0|    Bad Flight|                   0.7033|Virgin America|                  null|       jnardino|               null|            0|\"@VirginAmerica i...|       null|2015-02-24 11:15:...|                null|Pacific Time (US ...|\n",
       "|570300817074462722|         negative|                         1.0|    Can't Tell|                      1.0|Virgin America|                  null|       jnardino|               null|            0|@VirginAmerica an...|       null|2015-02-24 11:14:...|                null|Pacific Time (US ...|\n",
       "|570300767074181121|         negative|                         1.0|    Can't Tell|                   0.6842|Virgin America|                  null|       jnardino|               null|            0|@VirginAmerica se...|       null|                null|                null|                null|\n",
       "|570300616901320704|         positive|                      0.6745|          null|                      0.0|Virgin America|                  null|     cjmcginnis|               null|            0|@VirginAmerica ye...|       null|2015-02-24 11:13:...|    San Francisco CA|Pacific Time (US ...|\n",
       "|570300248553349120|          neutral|                       0.634|          null|                     null|Virgin America|                  null|          pilot|               null|            0|@VirginAmerica Re...|       null|2015-02-24 11:12:...|         Los Angeles|Pacific Time (US ...|\n",
       "|570299953286942721|         positive|                      0.6559|          null|                     null|Virgin America|                  null|       dhepburn|               null|            0|@virginamerica We...|       null|2015-02-24 11:11:...|           San Diego|Pacific Time (US ...|\n",
       "|570295459631263746|         positive|                         1.0|          null|                     null|Virgin America|                  null|     YupitsTate|               null|            0|@VirginAmerica it...|       null|2015-02-24 10:53:...|         Los Angeles|Eastern Time (US ...|\n",
       "|570294189143031808|          neutral|                      0.6769|          null|                      0.0|Virgin America|                  null|idk_but_youtube|               null|            0|@VirginAmerica di...|       null|2015-02-24 10:48:...|     1/1 loner squad|Eastern Time (US ...|\n",
       "|570289724453216256|         positive|                         1.0|          null|                     null|Virgin America|                  null|   HyperCamiLax|               null|            0|@VirginAmerica I ...|       null|2015-02-24 10:30:...|                 NYC|    America/New_York|\n",
       "|570289584061480960|         positive|                         1.0|          null|                     null|Virgin America|                  null|   HyperCamiLax|               null|            0|@VirginAmerica Th...|       null|2015-02-24 10:30:...|                 NYC|    America/New_York|\n",
       "|570287408438120448|         positive|                      0.6451|          null|                     null|Virgin America|                  null|   mollanderson|               null|            0|@VirginAmerica @v...|       null|2015-02-24 10:21:...|                null|Eastern Time (US ...|\n",
       "|570285904809598977|         positive|                         1.0|          null|                     null|Virgin America|                  null|       sjespers|               null|            0|@VirginAmerica Th...|       null|2015-02-24 10:15:...|   San Francisco, CA|Pacific Time (US ...|\n",
       "|570282469121007616|         negative|                      0.6842|   Late Flight|                   0.3684|Virgin America|                  null|smartwatermelon|               null|            0|@VirginAmerica SF...|       null|2015-02-24 10:01:...|       palo alto, ca|Pacific Time (US ...|\n",
       "|570277724385734656|         positive|                         1.0|          null|                     null|Virgin America|                  null|  ItzBrianHunty|               null|            0|@VirginAmerica So...|       null|2015-02-24 09:42:...|         west covina|Pacific Time (US ...|\n",
       "|570276917301137409|         negative|                         1.0|    Bad Flight|                      1.0|Virgin America|                  null|  heatherovieda|               null|            0|@VirginAmerica  I...|       null|2015-02-24 09:39:...|this place called...|Eastern Time (US ...|\n",
       "|570270684619923457|         positive|                         1.0|          null|                     null|Virgin America|                  null|   thebrandiray|               null|            0|I ❤️ flying @Virg...|       null|2015-02-24 09:15:...|Somewhere celebra...|Atlantic Time (Ca...|\n",
       "|570267956648792064|         positive|                         1.0|          null|                     null|Virgin America|                  null|      JNLpierce|               null|            0|@VirginAmerica yo...|       null|2015-02-24 09:04:...|    Boston | Waltham|               Quito|\n",
       "+------------------+-----------------+----------------------------+--------------+-------------------------+--------------+----------------------+---------------+-------------------+-------------+--------------------+-----------+--------------------+--------------------+--------------------+\n",
       "only showing top 20 rows\n",
       "\n"
      ]
     },
     "metadata": {
      "application/vnd.databricks.v1+output": {
       "addedWidgets": {},
       "arguments": {},
       "data": "+------------------+-----------------+----------------------------+--------------+-------------------------+--------------+----------------------+---------------+-------------------+-------------+--------------------+-----------+--------------------+--------------------+--------------------+\n|          tweet_id|airline_sentiment|airline_sentiment_confidence|negativereason|negativereason_confidence|       airline|airline_sentiment_gold|           name|negativereason_gold|retweet_count|                text|tweet_coord|       tweet_created|      tweet_location|       user_timezone|\n+------------------+-----------------+----------------------------+--------------+-------------------------+--------------+----------------------+---------------+-------------------+-------------+--------------------+-----------+--------------------+--------------------+--------------------+\n|570306133677760513|          neutral|                         1.0|          null|                     null|Virgin America|                  null|        cairdin|               null|            0|@VirginAmerica Wh...|       null|2015-02-24 11:35:...|                null|Eastern Time (US ...|\n|570301130888122368|         positive|                      0.3486|          null|                      0.0|Virgin America|                  null|       jnardino|               null|            0|@VirginAmerica pl...|       null|2015-02-24 11:15:...|                null|Pacific Time (US ...|\n|570301083672813571|          neutral|                      0.6837|          null|                     null|Virgin America|                  null|     yvonnalynn|               null|            0|@VirginAmerica I ...|       null|2015-02-24 11:15:...|           Lets Play|Central Time (US ...|\n|570301031407624196|         negative|                         1.0|    Bad Flight|                   0.7033|Virgin America|                  null|       jnardino|               null|            0|\"@VirginAmerica i...|       null|2015-02-24 11:15:...|                null|Pacific Time (US ...|\n|570300817074462722|         negative|                         1.0|    Can't Tell|                      1.0|Virgin America|                  null|       jnardino|               null|            0|@VirginAmerica an...|       null|2015-02-24 11:14:...|                null|Pacific Time (US ...|\n|570300767074181121|         negative|                         1.0|    Can't Tell|                   0.6842|Virgin America|                  null|       jnardino|               null|            0|@VirginAmerica se...|       null|                null|                null|                null|\n|570300616901320704|         positive|                      0.6745|          null|                      0.0|Virgin America|                  null|     cjmcginnis|               null|            0|@VirginAmerica ye...|       null|2015-02-24 11:13:...|    San Francisco CA|Pacific Time (US ...|\n|570300248553349120|          neutral|                       0.634|          null|                     null|Virgin America|                  null|          pilot|               null|            0|@VirginAmerica Re...|       null|2015-02-24 11:12:...|         Los Angeles|Pacific Time (US ...|\n|570299953286942721|         positive|                      0.6559|          null|                     null|Virgin America|                  null|       dhepburn|               null|            0|@virginamerica We...|       null|2015-02-24 11:11:...|           San Diego|Pacific Time (US ...|\n|570295459631263746|         positive|                         1.0|          null|                     null|Virgin America|                  null|     YupitsTate|               null|            0|@VirginAmerica it...|       null|2015-02-24 10:53:...|         Los Angeles|Eastern Time (US ...|\n|570294189143031808|          neutral|                      0.6769|          null|                      0.0|Virgin America|                  null|idk_but_youtube|               null|            0|@VirginAmerica di...|       null|2015-02-24 10:48:...|     1/1 loner squad|Eastern Time (US ...|\n|570289724453216256|         positive|                         1.0|          null|                     null|Virgin America|                  null|   HyperCamiLax|               null|            0|@VirginAmerica I ...|       null|2015-02-24 10:30:...|                 NYC|    America/New_York|\n|570289584061480960|         positive|                         1.0|          null|                     null|Virgin America|                  null|   HyperCamiLax|               null|            0|@VirginAmerica Th...|       null|2015-02-24 10:30:...|                 NYC|    America/New_York|\n|570287408438120448|         positive|                      0.6451|          null|                     null|Virgin America|                  null|   mollanderson|               null|            0|@VirginAmerica @v...|       null|2015-02-24 10:21:...|                null|Eastern Time (US ...|\n|570285904809598977|         positive|                         1.0|          null|                     null|Virgin America|                  null|       sjespers|               null|            0|@VirginAmerica Th...|       null|2015-02-24 10:15:...|   San Francisco, CA|Pacific Time (US ...|\n|570282469121007616|         negative|                      0.6842|   Late Flight|                   0.3684|Virgin America|                  null|smartwatermelon|               null|            0|@VirginAmerica SF...|       null|2015-02-24 10:01:...|       palo alto, ca|Pacific Time (US ...|\n|570277724385734656|         positive|                         1.0|          null|                     null|Virgin America|                  null|  ItzBrianHunty|               null|            0|@VirginAmerica So...|       null|2015-02-24 09:42:...|         west covina|Pacific Time (US ...|\n|570276917301137409|         negative|                         1.0|    Bad Flight|                      1.0|Virgin America|                  null|  heatherovieda|               null|            0|@VirginAmerica  I...|       null|2015-02-24 09:39:...|this place called...|Eastern Time (US ...|\n|570270684619923457|         positive|                         1.0|          null|                     null|Virgin America|                  null|   thebrandiray|               null|            0|I ❤️ flying @Virg...|       null|2015-02-24 09:15:...|Somewhere celebra...|Atlantic Time (Ca...|\n|570267956648792064|         positive|                         1.0|          null|                     null|Virgin America|                  null|      JNLpierce|               null|            0|@VirginAmerica yo...|       null|2015-02-24 09:04:...|    Boston | Waltham|               Quito|\n+------------------+-----------------+----------------------------+--------------+-------------------------+--------------+----------------------+---------------+-------------------+-------------+--------------------+-----------+--------------------+--------------------+--------------------+\nonly showing top 20 rows\n\n",
       "datasetInfos": [],
       "metadata": {},
       "removedWidgets": [],
       "type": "ansi"
      }
     },
     "output_type": "display_data"
    }
   ],
   "source": [
    "# uploading the text file onto the cluster\n",
    "path_to_df = \"Tweets.csv\"\n",
    "input_df = spark.read.option(\"header\",\"true\").option(\"inferSchema\",\"true\").csv(path_to_df).dropna(subset='text')\n",
    "input_df.show()"
   ]
  },
  {
   "cell_type": "code",
   "execution_count": null,
   "metadata": {
    "application/vnd.databricks.v1+cell": {
     "inputWidgets": {},
     "nuid": "0e104489-db4e-4d74-a0ad-71aaaf3939e1",
     "showTitle": false,
     "title": ""
    }
   },
   "outputs": [
    {
     "data": {
      "text/plain": [
       "+------------------+----------------------------+--------------+-------------------------+--------------+----------------------+---------------+-------------------+-------------+-----------+--------------------+--------------------+--------------------+--------------------+--------------------+-------------------------+\n",
       "|          tweet_id|airline_sentiment_confidence|negativereason|negativereason_confidence|       airline|airline_sentiment_gold|           name|negativereason_gold|retweet_count|tweet_coord|       tweet_created|      tweet_location|       user_timezone|       filtered_text|            features|airline_sentiment_indexed|\n",
       "+------------------+----------------------------+--------------+-------------------------+--------------+----------------------+---------------+-------------------+-------------+-----------+--------------------+--------------------+--------------------+--------------------+--------------------+-------------------------+\n",
       "|570306133677760513|                         1.0|          null|                     null|Virgin America|                  null|        cairdin|               null|            0|       null|2015-02-24 11:35:...|                null|Eastern Time (US ...|[@VirginAmerica, ...|(262144,[115096,1...|                      1.0|\n",
       "|570301130888122368|                      0.3486|          null|                      0.0|Virgin America|                  null|       jnardino|               null|            0|       null|2015-02-24 11:15:...|                null|Pacific Time (US ...|[@VirginAmerica, ...|(262144,[1419,999...|                      2.0|\n",
       "|570301083672813571|                      0.6837|          null|                     null|Virgin America|                  null|     yvonnalynn|               null|            0|       null|2015-02-24 11:15:...|           Lets Play|Central Time (US ...|[@VirginAmerica, ...|(262144,[11368,55...|                      1.0|\n",
       "|570301031407624196|                         1.0|    Bad Flight|                   0.7033|Virgin America|                  null|       jnardino|               null|            0|       null|2015-02-24 11:15:...|                null|Pacific Time (US ...|[\"@VirginAmerica,...|(262144,[1097,186...|                      0.0|\n",
       "|570300817074462722|                         1.0|    Can't Tell|                      1.0|Virgin America|                  null|       jnardino|               null|            0|       null|2015-02-24 11:14:...|                null|Pacific Time (US ...|[@VirginAmerica, ...|(262144,[70065,11...|                      0.0|\n",
       "|570300767074181121|                         1.0|    Can't Tell|                   0.6842|Virgin America|                  null|       jnardino|               null|            0|       null|                null|                null|                null|[@VirginAmerica, ...|(262144,[30053,44...|                      0.0|\n",
       "|570300616901320704|                      0.6745|          null|                      0.0|Virgin America|                  null|     cjmcginnis|               null|            0|       null|2015-02-24 11:13:...|    San Francisco CA|Pacific Time (US ...|[@VirginAmerica, ...|(262144,[6034,912...|                      2.0|\n",
       "|570300248553349120|                       0.634|          null|                     null|Virgin America|                  null|          pilot|               null|            0|       null|2015-02-24 11:12:...|         Los Angeles|Pacific Time (US ...|[@VirginAmerica, ...|(262144,[10723,16...|                      1.0|\n",
       "|570299953286942721|                      0.6559|          null|                     null|Virgin America|                  null|       dhepburn|               null|            0|       null|2015-02-24 11:11:...|           San Diego|Pacific Time (US ...|[@virginamerica, ...|(262144,[26365,93...|                      2.0|\n",
       "|570295459631263746|                         1.0|          null|                     null|Virgin America|                  null|     YupitsTate|               null|            0|       null|2015-02-24 10:53:...|         Los Angeles|Eastern Time (US ...|[@VirginAmerica, ...|(262144,[77073,98...|                      2.0|\n",
       "|570294189143031808|                      0.6769|          null|                      0.0|Virgin America|                  null|idk_but_youtube|               null|            0|       null|2015-02-24 10:48:...|     1/1 loner squad|Eastern Time (US ...|[@VirginAmerica, ...|(262144,[58233,77...|                      1.0|\n",
       "|570289724453216256|                         1.0|          null|                     null|Virgin America|                  null|   HyperCamiLax|               null|            0|       null|2015-02-24 10:30:...|                 NYC|    America/New_York|[@VirginAmerica, ...|(262144,[23071,76...|                      2.0|\n",
       "|570289584061480960|                         1.0|          null|                     null|Virgin America|                  null|   HyperCamiLax|               null|            0|       null|2015-02-24 10:30:...|                 NYC|    America/New_York|[@VirginAmerica, ...|(262144,[13532,32...|                      2.0|\n",
       "|570287408438120448|                      0.6451|          null|                     null|Virgin America|                  null|   mollanderson|               null|            0|       null|2015-02-24 10:21:...|                null|Eastern Time (US ...|[@VirginAmerica, ...|(262144,[9129,253...|                      2.0|\n",
       "|570285904809598977|                         1.0|          null|                     null|Virgin America|                  null|       sjespers|               null|            0|       null|2015-02-24 10:15:...|   San Francisco, CA|Pacific Time (US ...|[@VirginAmerica, ...|(262144,[115096,2...|                      2.0|\n",
       "|570282469121007616|                      0.6842|   Late Flight|                   0.3684|Virgin America|                  null|smartwatermelon|               null|            0|       null|2015-02-24 10:01:...|       palo alto, ca|Pacific Time (US ...|[@VirginAmerica, ...|(262144,[31536,11...|                      0.0|\n",
       "|570277724385734656|                         1.0|          null|                     null|Virgin America|                  null|  ItzBrianHunty|               null|            0|       null|2015-02-24 09:42:...|         west covina|Pacific Time (US ...|[@VirginAmerica, ...|(262144,[30053,31...|                      2.0|\n",
       "|570276917301137409|                         1.0|    Bad Flight|                      1.0|Virgin America|                  null|  heatherovieda|               null|            0|       null|2015-02-24 09:39:...|this place called...|Eastern Time (US ...|[@VirginAmerica, ...|(262144,[2325,538...|                      0.0|\n",
       "|570270684619923457|                         1.0|          null|                     null|Virgin America|                  null|   thebrandiray|               null|            0|       null|2015-02-24 09:15:...|Somewhere celebra...|Atlantic Time (Ca...|[❤️, flying, @Vir...|(262144,[6691,826...|                      2.0|\n",
       "|570267956648792064|                         1.0|          null|                     null|Virgin America|                  null|      JNLpierce|               null|            0|       null|2015-02-24 09:04:...|    Boston | Waltham|               Quito|[@VirginAmerica, ...|(262144,[39928,67...|                      2.0|\n",
       "+------------------+----------------------------+--------------+-------------------------+--------------+----------------------+---------------+-------------------+-------------+-----------+--------------------+--------------------+--------------------+--------------------+--------------------+-------------------------+\n",
       "only showing top 20 rows\n",
       "\n"
      ]
     },
     "metadata": {
      "application/vnd.databricks.v1+output": {
       "addedWidgets": {},
       "arguments": {},
       "data": "+------------------+----------------------------+--------------+-------------------------+--------------+----------------------+---------------+-------------------+-------------+-----------+--------------------+--------------------+--------------------+--------------------+--------------------+-------------------------+\n|          tweet_id|airline_sentiment_confidence|negativereason|negativereason_confidence|       airline|airline_sentiment_gold|           name|negativereason_gold|retweet_count|tweet_coord|       tweet_created|      tweet_location|       user_timezone|       filtered_text|            features|airline_sentiment_indexed|\n+------------------+----------------------------+--------------+-------------------------+--------------+----------------------+---------------+-------------------+-------------+-----------+--------------------+--------------------+--------------------+--------------------+--------------------+-------------------------+\n|570306133677760513|                         1.0|          null|                     null|Virgin America|                  null|        cairdin|               null|            0|       null|2015-02-24 11:35:...|                null|Eastern Time (US ...|[@VirginAmerica, ...|(262144,[115096,1...|                      1.0|\n|570301130888122368|                      0.3486|          null|                      0.0|Virgin America|                  null|       jnardino|               null|            0|       null|2015-02-24 11:15:...|                null|Pacific Time (US ...|[@VirginAmerica, ...|(262144,[1419,999...|                      2.0|\n|570301083672813571|                      0.6837|          null|                     null|Virgin America|                  null|     yvonnalynn|               null|            0|       null|2015-02-24 11:15:...|           Lets Play|Central Time (US ...|[@VirginAmerica, ...|(262144,[11368,55...|                      1.0|\n|570301031407624196|                         1.0|    Bad Flight|                   0.7033|Virgin America|                  null|       jnardino|               null|            0|       null|2015-02-24 11:15:...|                null|Pacific Time (US ...|[\"@VirginAmerica,...|(262144,[1097,186...|                      0.0|\n|570300817074462722|                         1.0|    Can't Tell|                      1.0|Virgin America|                  null|       jnardino|               null|            0|       null|2015-02-24 11:14:...|                null|Pacific Time (US ...|[@VirginAmerica, ...|(262144,[70065,11...|                      0.0|\n|570300767074181121|                         1.0|    Can't Tell|                   0.6842|Virgin America|                  null|       jnardino|               null|            0|       null|                null|                null|                null|[@VirginAmerica, ...|(262144,[30053,44...|                      0.0|\n|570300616901320704|                      0.6745|          null|                      0.0|Virgin America|                  null|     cjmcginnis|               null|            0|       null|2015-02-24 11:13:...|    San Francisco CA|Pacific Time (US ...|[@VirginAmerica, ...|(262144,[6034,912...|                      2.0|\n|570300248553349120|                       0.634|          null|                     null|Virgin America|                  null|          pilot|               null|            0|       null|2015-02-24 11:12:...|         Los Angeles|Pacific Time (US ...|[@VirginAmerica, ...|(262144,[10723,16...|                      1.0|\n|570299953286942721|                      0.6559|          null|                     null|Virgin America|                  null|       dhepburn|               null|            0|       null|2015-02-24 11:11:...|           San Diego|Pacific Time (US ...|[@virginamerica, ...|(262144,[26365,93...|                      2.0|\n|570295459631263746|                         1.0|          null|                     null|Virgin America|                  null|     YupitsTate|               null|            0|       null|2015-02-24 10:53:...|         Los Angeles|Eastern Time (US ...|[@VirginAmerica, ...|(262144,[77073,98...|                      2.0|\n|570294189143031808|                      0.6769|          null|                      0.0|Virgin America|                  null|idk_but_youtube|               null|            0|       null|2015-02-24 10:48:...|     1/1 loner squad|Eastern Time (US ...|[@VirginAmerica, ...|(262144,[58233,77...|                      1.0|\n|570289724453216256|                         1.0|          null|                     null|Virgin America|                  null|   HyperCamiLax|               null|            0|       null|2015-02-24 10:30:...|                 NYC|    America/New_York|[@VirginAmerica, ...|(262144,[23071,76...|                      2.0|\n|570289584061480960|                         1.0|          null|                     null|Virgin America|                  null|   HyperCamiLax|               null|            0|       null|2015-02-24 10:30:...|                 NYC|    America/New_York|[@VirginAmerica, ...|(262144,[13532,32...|                      2.0|\n|570287408438120448|                      0.6451|          null|                     null|Virgin America|                  null|   mollanderson|               null|            0|       null|2015-02-24 10:21:...|                null|Eastern Time (US ...|[@VirginAmerica, ...|(262144,[9129,253...|                      2.0|\n|570285904809598977|                         1.0|          null|                     null|Virgin America|                  null|       sjespers|               null|            0|       null|2015-02-24 10:15:...|   San Francisco, CA|Pacific Time (US ...|[@VirginAmerica, ...|(262144,[115096,2...|                      2.0|\n|570282469121007616|                      0.6842|   Late Flight|                   0.3684|Virgin America|                  null|smartwatermelon|               null|            0|       null|2015-02-24 10:01:...|       palo alto, ca|Pacific Time (US ...|[@VirginAmerica, ...|(262144,[31536,11...|                      0.0|\n|570277724385734656|                         1.0|          null|                     null|Virgin America|                  null|  ItzBrianHunty|               null|            0|       null|2015-02-24 09:42:...|         west covina|Pacific Time (US ...|[@VirginAmerica, ...|(262144,[30053,31...|                      2.0|\n|570276917301137409|                         1.0|    Bad Flight|                      1.0|Virgin America|                  null|  heatherovieda|               null|            0|       null|2015-02-24 09:39:...|this place called...|Eastern Time (US ...|[@VirginAmerica, ...|(262144,[2325,538...|                      0.0|\n|570270684619923457|                         1.0|          null|                     null|Virgin America|                  null|   thebrandiray|               null|            0|       null|2015-02-24 09:15:...|Somewhere celebra...|Atlantic Time (Ca...|[❤️, flying, @Vir...|(262144,[6691,826...|                      2.0|\n|570267956648792064|                         1.0|          null|                     null|Virgin America|                  null|      JNLpierce|               null|            0|       null|2015-02-24 09:04:...|    Boston | Waltham|               Quito|[@VirginAmerica, ...|(262144,[39928,67...|                      2.0|\n+------------------+----------------------------+--------------+-------------------------+--------------+----------------------+---------------+-------------------+-------------+-----------+--------------------+--------------------+--------------------+--------------------+--------------------+-------------------------+\nonly showing top 20 rows\n\n",
       "datasetInfos": [],
       "metadata": {},
       "removedWidgets": [],
       "type": "ansi"
      }
     },
     "output_type": "display_data"
    }
   ],
   "source": [
    "input_df = input_df.select([split(col(\"text\"),\" \").alias(\"text_array\"),'*'])\n",
    "remover = StopWordsRemover(inputCol=\"text_array\", outputCol=\"filtered_text\")\n",
    "ht = HashingTF(inputCol=\"filtered_text\", outputCol=\"features\")\n",
    "indexer = StringIndexer(inputCol=\"airline_sentiment\", outputCol=\"airline_sentiment_indexed\")\n",
    "\n",
    "pipeline = Pipeline(stages=[remover, ht, indexer])\n",
    "model = pipeline.fit(input_df)\n",
    "pipeline_df = model.transform(input_df)\n",
    "cols = ('text', 'text_array', 'airline_sentiment')\n",
    "df = pipeline_df.drop(*cols)\n",
    "df.show()"
   ]
  },
  {
   "cell_type": "code",
   "execution_count": null,
   "metadata": {
    "application/vnd.databricks.v1+cell": {
     "inputWidgets": {},
     "nuid": "60030e23-fea2-4a73-9ec8-d54236b49fa6",
     "showTitle": false,
     "title": ""
    }
   },
   "outputs": [],
   "source": [
    "train, test = df.randomSplit([0.8, 0.2], seed = 2000)"
   ]
  },
  {
   "cell_type": "code",
   "execution_count": null,
   "metadata": {
    "application/vnd.databricks.v1+cell": {
     "inputWidgets": {},
     "nuid": "4ae96356-f9c6-414f-b5b1-ca85b47a8864",
     "showTitle": false,
     "title": ""
    }
   },
   "outputs": [],
   "source": [
    "lr = LogisticRegression(featuresCol='features', labelCol='airline_sentiment_indexed', maxIter=5)\n",
    "paramGrid = (ParamGridBuilder()\n",
    "            .addGrid(lr.regParam, [0.1, 0.5, 2.0, 5.0])\n",
    "            .addGrid(lr.elasticNetParam, [0.0, 0.5, 1.0])\n",
    "            .addGrid(lr.maxIter, [1, 5, 10, 20])\n",
    "            .build())\n",
    "evaluator = MulticlassClassificationEvaluator(labelCol='airline_sentiment_indexed')\n",
    "cv = CrossValidator(estimator=lr, estimatorParamMaps=paramGrid, evaluator=evaluator, numFolds=3)\n",
    "cvModel = cv.fit(train)\n",
    "predictions = cvModel.transform(test)"
   ]
  },
  {
   "cell_type": "code",
   "execution_count": null,
   "metadata": {
    "application/vnd.databricks.v1+cell": {
     "inputWidgets": {},
     "nuid": "8d5464d4-8a1e-4e95-af72-c2d546be2cd2",
     "showTitle": false,
     "title": ""
    }
   },
   "outputs": [
    {
     "data": {
      "text/plain": [
       "AUC: 0.718533985467147\n",
       "Accuracy: 0.7408835904628331\n",
       "True Positive Rate By Label: 0.9264947888096544\n",
       "Hamming Loss: 0.2591164095371669\n",
       "Hamming Loss: 0.6257079534362642\n"
      ]
     },
     "metadata": {
      "application/vnd.databricks.v1+output": {
       "addedWidgets": {},
       "arguments": {},
       "data": "AUC: 0.718533985467147\nAccuracy: 0.7408835904628331\nTrue Positive Rate By Label: 0.9264947888096544\nHamming Loss: 0.2591164095371669\nHamming Loss: 0.6257079534362642\n",
       "datasetInfos": [],
       "metadata": {},
       "removedWidgets": [],
       "type": "ansi"
      }
     },
     "output_type": "display_data"
    }
   ],
   "source": [
    "auc = evaluator.evaluate(predictions)\n",
    "acc = evaluator.evaluate(predictions, {evaluator.metricName: \"accuracy\"})\n",
    "tprbl = evaluator.evaluate(predictions, {evaluator.metricName: \"truePositiveRateByLabel\"})\n",
    "hloss = evaluator.evaluate(predictions, {evaluator.metricName: \"hammingLoss\"})\n",
    "lloss = evaluator.evaluate(predictions, {evaluator.metricName: \"logLoss\"})\n",
    "\n",
    "print(\"AUC: {}\".format(auc))\n",
    "print(\"Accuracy: {}\".format(acc))\n",
    "print(\"True Positive Rate By Label: {}\".format(tprbl))\n",
    "print(\"Hamming Loss: {}\".format(hloss))\n",
    "print(\"Hamming Loss: {}\".format(lloss))"
   ]
  },
  {
   "cell_type": "code",
   "execution_count": null,
   "metadata": {
    "application/vnd.databricks.v1+cell": {
     "inputWidgets": {},
     "nuid": "a3da1ebc-51dc-4d29-9cfe-202fabf15a7e",
     "showTitle": false,
     "title": ""
    }
   },
   "outputs": [
    {
     "data": {
      "text/plain": [
       "coefficientMatrix: 3 X 262144 CSRMatrix\n",
       "(0,7) 0.51\n",
       "(0,19) -0.1708\n",
       "(0,26) 0.2266\n",
       "(0,48) -0.1789\n",
       "(0,61) -0.8843\n",
       "(0,83) 0.4354\n",
       "(0,108) 0.3819\n",
       "(0,141) -0.158\n",
       "(0,144) 0.5899\n",
       "(0,150) 0.0978\n",
       "(0,152) 0.192\n",
       "(0,156) -0.3838\n",
       "(0,161) 0.2506\n",
       "(0,184) 0.2703\n",
       "(0,192) -0.3146\n",
       "(0,210) -0.1656\n",
       "..\n",
       "..\n",
       "Reg Paramater: 0.1\n",
       "Max Iteration: 20\n",
       "Elastic Net Param: 0.0\n"
      ]
     },
     "metadata": {
      "application/vnd.databricks.v1+output": {
       "addedWidgets": {},
       "arguments": {},
       "data": "coefficientMatrix: 3 X 262144 CSRMatrix\n(0,7) 0.51\n(0,19) -0.1708\n(0,26) 0.2266\n(0,48) -0.1789\n(0,61) -0.8843\n(0,83) 0.4354\n(0,108) 0.3819\n(0,141) -0.158\n(0,144) 0.5899\n(0,150) 0.0978\n(0,152) 0.192\n(0,156) -0.3838\n(0,161) 0.2506\n(0,184) 0.2703\n(0,192) -0.3146\n(0,210) -0.1656\n..\n..\nReg Paramater: 0.1\nMax Iteration: 20\nElastic Net Param: 0.0\n",
       "datasetInfos": [],
       "metadata": {},
       "removedWidgets": [],
       "type": "ansi"
      }
     },
     "output_type": "display_data"
    }
   ],
   "source": [
    "bestModel = cvModel.bestModel\n",
    "coefficientMatrix = bestModel.coefficientMatrix\n",
    "regParam = bestModel.getRegParam()\n",
    "maxIter = bestModel.getMaxIter()\n",
    "elasticNetParam = bestModel.getElasticNetParam()\n",
    "\n",
    "print(\"coefficientMatrix: {}\".format(coefficientMatrix))\n",
    "print(\"Reg Paramater: {}\".format(regParam))\n",
    "print(\"Max Iteration: {}\".format(maxIter))\n",
    "print(\"Elastic Net Param: {}\".format(elasticNetParam))"
   ]
  },
  {
   "cell_type": "code",
   "execution_count": null,
   "metadata": {
    "application/vnd.databricks.v1+cell": {
     "inputWidgets": {},
     "nuid": "d1fd9635-320c-4af7-a645-f768bc13c75e",
     "showTitle": false,
     "title": ""
    }
   },
   "outputs": [
    {
     "data": {
      "text/html": [
       "<style scoped>\n",
       "  .ansiout {\n",
       "    display: block;\n",
       "    unicode-bidi: embed;\n",
       "    white-space: pre-wrap;\n",
       "    word-wrap: break-word;\n",
       "    word-break: break-all;\n",
       "    font-family: \"Source Code Pro\", \"Menlo\", monospace;;\n",
       "    font-size: 13px;\n",
       "    color: #555;\n",
       "    margin-left: 4px;\n",
       "    line-height: 19px;\n",
       "  }\n",
       "</style>"
      ]
     },
     "metadata": {
      "application/vnd.databricks.v1+output": {
       "arguments": {},
       "data": "",
       "errorSummary": "",
       "errorTraceType": null,
       "metadata": {},
       "type": "ipynbError"
      }
     },
     "output_type": "display_data"
    }
   ],
   "source": []
  }
 ],
 "metadata": {
  "application/vnd.databricks.v1+notebook": {
   "dashboards": [],
   "language": "python",
   "notebookMetadata": {
    "pythonIndentUnit": 4
   },
   "notebookName": "Assignment2Part2",
   "notebookOrigID": 3091326565176804,
   "widgets": {}
  },
  "kernelspec": {
   "display_name": "Python 3",
   "language": "python",
   "name": "python3"
  },
  "language_info": {
   "codemirror_mode": {
    "name": "ipython",
    "version": 3
   },
   "file_extension": ".py",
   "mimetype": "text/x-python",
   "name": "python",
   "nbconvert_exporter": "python",
   "pygments_lexer": "ipython3",
   "version": "3.8.8"
  }
 },
 "nbformat": 4,
 "nbformat_minor": 1
}
